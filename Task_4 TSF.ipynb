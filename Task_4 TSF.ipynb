{
 "cells": [
  {
   "cell_type": "markdown",
   "metadata": {},
   "source": [
    "# TASK 4 : Exploratory Data Analysis - Terrorism"
   ]
  },
  {
   "cell_type": "markdown",
   "metadata": {},
   "source": [
    "## SHIVAM GUPTA"
   ]
  },
  {
   "cell_type": "markdown",
   "metadata": {},
   "source": [
    "###  #GRIPJAN21 "
   ]
  },
  {
   "cell_type": "markdown",
   "metadata": {},
   "source": [
    "## DATA SCIENCE AND BUSINESS ANALYTICS INTERN AT THE SPARKS FOUNDATION"
   ]
  },
  {
   "cell_type": "markdown",
   "metadata": {},
   "source": [
    "#### Problem : Perform ‘Exploratory Data Analysis’ on dataset ‘Global Terrorism’ and  try to find out the hot zone of terrorism."
   ]
  },
  {
   "cell_type": "markdown",
   "metadata": {},
   "source": [
    "What all security issues and insights you can derive by EDA? "
   ]
  },
  {
   "cell_type": "markdown",
   "metadata": {},
   "source": [
    "#### Data Source : https://bit.ly/2TK5Xn5"
   ]
  },
  {
   "cell_type": "code",
   "execution_count": 67,
   "metadata": {},
   "outputs": [],
   "source": [
    "import numpy as np\n",
    "import pandas as pd\n",
    "import matplotlib.pyplot as plt\n",
    "%matplotlib inline\n",
    "import seaborn as sns \n",
    "\n",
    "import warnings\n",
    "warnings.filterwarnings(\"ignore\")"
   ]
  },
  {
   "cell_type": "code",
   "execution_count": 71,
   "metadata": {},
   "outputs": [],
   "source": [
    "#Reading data\n",
    "df_terror=pd.read_csv(r\"C:\\Users\\SHIVAM GUPTA\\Downloads\\Global_terrorism\\globalterrorismdb.csv\",encoding='latin1')"
   ]
  },
  {
   "cell_type": "code",
   "execution_count": 27,
   "metadata": {},
   "outputs": [
    {
     "data": {
      "text/html": [
       "<div>\n",
       "<style scoped>\n",
       "    .dataframe tbody tr th:only-of-type {\n",
       "        vertical-align: middle;\n",
       "    }\n",
       "\n",
       "    .dataframe tbody tr th {\n",
       "        vertical-align: top;\n",
       "    }\n",
       "\n",
       "    .dataframe thead th {\n",
       "        text-align: right;\n",
       "    }\n",
       "</style>\n",
       "<table border=\"1\" class=\"dataframe\">\n",
       "  <thead>\n",
       "    <tr style=\"text-align: right;\">\n",
       "      <th></th>\n",
       "      <th>eventid</th>\n",
       "      <th>iyear</th>\n",
       "      <th>imonth</th>\n",
       "      <th>iday</th>\n",
       "      <th>approxdate</th>\n",
       "      <th>extended</th>\n",
       "      <th>resolution</th>\n",
       "      <th>country</th>\n",
       "      <th>country_txt</th>\n",
       "      <th>region</th>\n",
       "      <th>...</th>\n",
       "      <th>addnotes</th>\n",
       "      <th>scite1</th>\n",
       "      <th>scite2</th>\n",
       "      <th>scite3</th>\n",
       "      <th>dbsource</th>\n",
       "      <th>INT_LOG</th>\n",
       "      <th>INT_IDEO</th>\n",
       "      <th>INT_MISC</th>\n",
       "      <th>INT_ANY</th>\n",
       "      <th>related</th>\n",
       "    </tr>\n",
       "  </thead>\n",
       "  <tbody>\n",
       "    <tr>\n",
       "      <th>0</th>\n",
       "      <td>197000000001</td>\n",
       "      <td>1970</td>\n",
       "      <td>7</td>\n",
       "      <td>2</td>\n",
       "      <td>NaN</td>\n",
       "      <td>0</td>\n",
       "      <td>NaN</td>\n",
       "      <td>58</td>\n",
       "      <td>Dominican Republic</td>\n",
       "      <td>2</td>\n",
       "      <td>...</td>\n",
       "      <td>NaN</td>\n",
       "      <td>NaN</td>\n",
       "      <td>NaN</td>\n",
       "      <td>NaN</td>\n",
       "      <td>PGIS</td>\n",
       "      <td>0</td>\n",
       "      <td>0</td>\n",
       "      <td>0</td>\n",
       "      <td>0</td>\n",
       "      <td>NaN</td>\n",
       "    </tr>\n",
       "    <tr>\n",
       "      <th>1</th>\n",
       "      <td>197000000002</td>\n",
       "      <td>1970</td>\n",
       "      <td>0</td>\n",
       "      <td>0</td>\n",
       "      <td>NaN</td>\n",
       "      <td>0</td>\n",
       "      <td>NaN</td>\n",
       "      <td>130</td>\n",
       "      <td>Mexico</td>\n",
       "      <td>1</td>\n",
       "      <td>...</td>\n",
       "      <td>NaN</td>\n",
       "      <td>NaN</td>\n",
       "      <td>NaN</td>\n",
       "      <td>NaN</td>\n",
       "      <td>PGIS</td>\n",
       "      <td>0</td>\n",
       "      <td>1</td>\n",
       "      <td>1</td>\n",
       "      <td>1</td>\n",
       "      <td>NaN</td>\n",
       "    </tr>\n",
       "    <tr>\n",
       "      <th>2</th>\n",
       "      <td>197001000001</td>\n",
       "      <td>1970</td>\n",
       "      <td>1</td>\n",
       "      <td>0</td>\n",
       "      <td>NaN</td>\n",
       "      <td>0</td>\n",
       "      <td>NaN</td>\n",
       "      <td>160</td>\n",
       "      <td>Philippines</td>\n",
       "      <td>5</td>\n",
       "      <td>...</td>\n",
       "      <td>NaN</td>\n",
       "      <td>NaN</td>\n",
       "      <td>NaN</td>\n",
       "      <td>NaN</td>\n",
       "      <td>PGIS</td>\n",
       "      <td>-9</td>\n",
       "      <td>-9</td>\n",
       "      <td>1</td>\n",
       "      <td>1</td>\n",
       "      <td>NaN</td>\n",
       "    </tr>\n",
       "    <tr>\n",
       "      <th>3</th>\n",
       "      <td>197001000002</td>\n",
       "      <td>1970</td>\n",
       "      <td>1</td>\n",
       "      <td>0</td>\n",
       "      <td>NaN</td>\n",
       "      <td>0</td>\n",
       "      <td>NaN</td>\n",
       "      <td>78</td>\n",
       "      <td>Greece</td>\n",
       "      <td>8</td>\n",
       "      <td>...</td>\n",
       "      <td>NaN</td>\n",
       "      <td>NaN</td>\n",
       "      <td>NaN</td>\n",
       "      <td>NaN</td>\n",
       "      <td>PGIS</td>\n",
       "      <td>-9</td>\n",
       "      <td>-9</td>\n",
       "      <td>1</td>\n",
       "      <td>1</td>\n",
       "      <td>NaN</td>\n",
       "    </tr>\n",
       "    <tr>\n",
       "      <th>4</th>\n",
       "      <td>197001000003</td>\n",
       "      <td>1970</td>\n",
       "      <td>1</td>\n",
       "      <td>0</td>\n",
       "      <td>NaN</td>\n",
       "      <td>0</td>\n",
       "      <td>NaN</td>\n",
       "      <td>101</td>\n",
       "      <td>Japan</td>\n",
       "      <td>4</td>\n",
       "      <td>...</td>\n",
       "      <td>NaN</td>\n",
       "      <td>NaN</td>\n",
       "      <td>NaN</td>\n",
       "      <td>NaN</td>\n",
       "      <td>PGIS</td>\n",
       "      <td>-9</td>\n",
       "      <td>-9</td>\n",
       "      <td>1</td>\n",
       "      <td>1</td>\n",
       "      <td>NaN</td>\n",
       "    </tr>\n",
       "  </tbody>\n",
       "</table>\n",
       "<p>5 rows × 135 columns</p>\n",
       "</div>"
      ],
      "text/plain": [
       "        eventid  iyear  imonth  iday approxdate  extended resolution  country  \\\n",
       "0  197000000001   1970       7     2        NaN         0        NaN       58   \n",
       "1  197000000002   1970       0     0        NaN         0        NaN      130   \n",
       "2  197001000001   1970       1     0        NaN         0        NaN      160   \n",
       "3  197001000002   1970       1     0        NaN         0        NaN       78   \n",
       "4  197001000003   1970       1     0        NaN         0        NaN      101   \n",
       "\n",
       "          country_txt  region  ... addnotes scite1 scite2  scite3  dbsource  \\\n",
       "0  Dominican Republic       2  ...      NaN    NaN    NaN     NaN      PGIS   \n",
       "1              Mexico       1  ...      NaN    NaN    NaN     NaN      PGIS   \n",
       "2         Philippines       5  ...      NaN    NaN    NaN     NaN      PGIS   \n",
       "3              Greece       8  ...      NaN    NaN    NaN     NaN      PGIS   \n",
       "4               Japan       4  ...      NaN    NaN    NaN     NaN      PGIS   \n",
       "\n",
       "   INT_LOG  INT_IDEO INT_MISC INT_ANY  related  \n",
       "0        0         0        0       0      NaN  \n",
       "1        0         1        1       1      NaN  \n",
       "2       -9        -9        1       1      NaN  \n",
       "3       -9        -9        1       1      NaN  \n",
       "4       -9        -9        1       1      NaN  \n",
       "\n",
       "[5 rows x 135 columns]"
      ]
     },
     "execution_count": 27,
     "metadata": {},
     "output_type": "execute_result"
    }
   ],
   "source": [
    "df_terror.head()"
   ]
  },
  {
   "cell_type": "code",
   "execution_count": 29,
   "metadata": {},
   "outputs": [
    {
     "data": {
      "text/plain": [
       "(181691, 135)"
      ]
     },
     "execution_count": 29,
     "metadata": {},
     "output_type": "execute_result"
    }
   ],
   "source": [
    "df_terror.shape"
   ]
  },
  {
   "cell_type": "code",
   "execution_count": 30,
   "metadata": {},
   "outputs": [
    {
     "name": "stdout",
     "output_type": "stream",
     "text": [
      "<class 'pandas.core.frame.DataFrame'>\n",
      "RangeIndex: 181691 entries, 0 to 181690\n",
      "Columns: 135 entries, eventid to related\n",
      "dtypes: float64(55), int64(22), object(58)\n",
      "memory usage: 187.1+ MB\n"
     ]
    }
   ],
   "source": [
    "df_terror.info()"
   ]
  },
  {
   "cell_type": "code",
   "execution_count": 31,
   "metadata": {},
   "outputs": [
    {
     "data": {
      "text/plain": [
       "Index(['eventid', 'iyear', 'imonth', 'iday', 'approxdate', 'extended',\n",
       "       'resolution', 'country', 'country_txt', 'region',\n",
       "       ...\n",
       "       'addnotes', 'scite1', 'scite2', 'scite3', 'dbsource', 'INT_LOG',\n",
       "       'INT_IDEO', 'INT_MISC', 'INT_ANY', 'related'],\n",
       "      dtype='object', length=135)"
      ]
     },
     "execution_count": 31,
     "metadata": {},
     "output_type": "execute_result"
    }
   ],
   "source": [
    "df_terror.columns"
   ]
  },
  {
   "cell_type": "code",
   "execution_count": 32,
   "metadata": {},
   "outputs": [
    {
     "data": {
      "text/plain": [
       "eventid        int64\n",
       "iyear          int64\n",
       "imonth         int64\n",
       "iday           int64\n",
       "approxdate    object\n",
       "               ...  \n",
       "INT_LOG        int64\n",
       "INT_IDEO       int64\n",
       "INT_MISC       int64\n",
       "INT_ANY        int64\n",
       "related       object\n",
       "Length: 135, dtype: object"
      ]
     },
     "execution_count": 32,
     "metadata": {},
     "output_type": "execute_result"
    }
   ],
   "source": [
    "df_terror.dtypes"
   ]
  },
  {
   "cell_type": "code",
   "execution_count": 34,
   "metadata": {},
   "outputs": [
    {
     "data": {
      "text/plain": [
       "False"
      ]
     },
     "execution_count": 34,
     "metadata": {},
     "output_type": "execute_result"
    }
   ],
   "source": [
    "df_terror.isnull == True"
   ]
  },
  {
   "cell_type": "code",
   "execution_count": 35,
   "metadata": {},
   "outputs": [
    {
     "data": {
      "text/plain": [
       "eventid            0\n",
       "iyear              0\n",
       "imonth             0\n",
       "iday               0\n",
       "approxdate    172452\n",
       "               ...  \n",
       "INT_LOG            0\n",
       "INT_IDEO           0\n",
       "INT_MISC           0\n",
       "INT_ANY            0\n",
       "related       156653\n",
       "Length: 135, dtype: int64"
      ]
     },
     "execution_count": 35,
     "metadata": {},
     "output_type": "execute_result"
    }
   ],
   "source": [
    "df_terror.isnull().sum()"
   ]
  },
  {
   "cell_type": "code",
   "execution_count": 3,
   "metadata": {},
   "outputs": [],
   "source": [
    "df_terror.drop('eventid',axis=1,inplace=True)"
   ]
  },
  {
   "cell_type": "code",
   "execution_count": 38,
   "metadata": {},
   "outputs": [
    {
     "data": {
      "text/html": [
       "<div>\n",
       "<style scoped>\n",
       "    .dataframe tbody tr th:only-of-type {\n",
       "        vertical-align: middle;\n",
       "    }\n",
       "\n",
       "    .dataframe tbody tr th {\n",
       "        vertical-align: top;\n",
       "    }\n",
       "\n",
       "    .dataframe thead th {\n",
       "        text-align: right;\n",
       "    }\n",
       "</style>\n",
       "<table border=\"1\" class=\"dataframe\">\n",
       "  <thead>\n",
       "    <tr style=\"text-align: right;\">\n",
       "      <th></th>\n",
       "      <th>iyear</th>\n",
       "      <th>imonth</th>\n",
       "      <th>iday</th>\n",
       "      <th>approxdate</th>\n",
       "      <th>extended</th>\n",
       "      <th>resolution</th>\n",
       "      <th>country</th>\n",
       "      <th>country_txt</th>\n",
       "      <th>region</th>\n",
       "      <th>region_txt</th>\n",
       "      <th>...</th>\n",
       "      <th>addnotes</th>\n",
       "      <th>scite1</th>\n",
       "      <th>scite2</th>\n",
       "      <th>scite3</th>\n",
       "      <th>dbsource</th>\n",
       "      <th>INT_LOG</th>\n",
       "      <th>INT_IDEO</th>\n",
       "      <th>INT_MISC</th>\n",
       "      <th>INT_ANY</th>\n",
       "      <th>related</th>\n",
       "    </tr>\n",
       "  </thead>\n",
       "  <tbody>\n",
       "    <tr>\n",
       "      <th>181686</th>\n",
       "      <td>2017</td>\n",
       "      <td>12</td>\n",
       "      <td>31</td>\n",
       "      <td>NaN</td>\n",
       "      <td>0</td>\n",
       "      <td>NaN</td>\n",
       "      <td>182</td>\n",
       "      <td>Somalia</td>\n",
       "      <td>11</td>\n",
       "      <td>Sub-Saharan Africa</td>\n",
       "      <td>...</td>\n",
       "      <td>NaN</td>\n",
       "      <td>\"Somalia: Al-Shabaab Militants Attack Army Che...</td>\n",
       "      <td>\"Highlights: Somalia Daily Media Highlights 2 ...</td>\n",
       "      <td>\"Highlights: Somalia Daily Media Highlights 1 ...</td>\n",
       "      <td>START Primary Collection</td>\n",
       "      <td>0</td>\n",
       "      <td>0</td>\n",
       "      <td>0</td>\n",
       "      <td>0</td>\n",
       "      <td>NaN</td>\n",
       "    </tr>\n",
       "    <tr>\n",
       "      <th>181687</th>\n",
       "      <td>2017</td>\n",
       "      <td>12</td>\n",
       "      <td>31</td>\n",
       "      <td>NaN</td>\n",
       "      <td>0</td>\n",
       "      <td>NaN</td>\n",
       "      <td>200</td>\n",
       "      <td>Syria</td>\n",
       "      <td>10</td>\n",
       "      <td>Middle East &amp; North Africa</td>\n",
       "      <td>...</td>\n",
       "      <td>NaN</td>\n",
       "      <td>\"Putin's 'victory' in Syria has turned into a ...</td>\n",
       "      <td>\"Two Russian soldiers killed at Hmeymim base i...</td>\n",
       "      <td>\"Two Russian servicemen killed in Syria mortar...</td>\n",
       "      <td>START Primary Collection</td>\n",
       "      <td>-9</td>\n",
       "      <td>-9</td>\n",
       "      <td>1</td>\n",
       "      <td>1</td>\n",
       "      <td>NaN</td>\n",
       "    </tr>\n",
       "    <tr>\n",
       "      <th>181688</th>\n",
       "      <td>2017</td>\n",
       "      <td>12</td>\n",
       "      <td>31</td>\n",
       "      <td>NaN</td>\n",
       "      <td>0</td>\n",
       "      <td>NaN</td>\n",
       "      <td>160</td>\n",
       "      <td>Philippines</td>\n",
       "      <td>5</td>\n",
       "      <td>Southeast Asia</td>\n",
       "      <td>...</td>\n",
       "      <td>NaN</td>\n",
       "      <td>\"Maguindanao clashes trap tribe members,\" Phil...</td>\n",
       "      <td>NaN</td>\n",
       "      <td>NaN</td>\n",
       "      <td>START Primary Collection</td>\n",
       "      <td>0</td>\n",
       "      <td>0</td>\n",
       "      <td>0</td>\n",
       "      <td>0</td>\n",
       "      <td>NaN</td>\n",
       "    </tr>\n",
       "    <tr>\n",
       "      <th>181689</th>\n",
       "      <td>2017</td>\n",
       "      <td>12</td>\n",
       "      <td>31</td>\n",
       "      <td>NaN</td>\n",
       "      <td>0</td>\n",
       "      <td>NaN</td>\n",
       "      <td>92</td>\n",
       "      <td>India</td>\n",
       "      <td>6</td>\n",
       "      <td>South Asia</td>\n",
       "      <td>...</td>\n",
       "      <td>NaN</td>\n",
       "      <td>\"Trader escapes grenade attack in Imphal,\" Bus...</td>\n",
       "      <td>NaN</td>\n",
       "      <td>NaN</td>\n",
       "      <td>START Primary Collection</td>\n",
       "      <td>-9</td>\n",
       "      <td>-9</td>\n",
       "      <td>0</td>\n",
       "      <td>-9</td>\n",
       "      <td>NaN</td>\n",
       "    </tr>\n",
       "    <tr>\n",
       "      <th>181690</th>\n",
       "      <td>2017</td>\n",
       "      <td>12</td>\n",
       "      <td>31</td>\n",
       "      <td>NaN</td>\n",
       "      <td>0</td>\n",
       "      <td>NaN</td>\n",
       "      <td>160</td>\n",
       "      <td>Philippines</td>\n",
       "      <td>5</td>\n",
       "      <td>Southeast Asia</td>\n",
       "      <td>...</td>\n",
       "      <td>NaN</td>\n",
       "      <td>\"Security tightened in Cotabato following IED ...</td>\n",
       "      <td>\"Security tightened in Cotabato City,\" Manila ...</td>\n",
       "      <td>NaN</td>\n",
       "      <td>START Primary Collection</td>\n",
       "      <td>-9</td>\n",
       "      <td>-9</td>\n",
       "      <td>0</td>\n",
       "      <td>-9</td>\n",
       "      <td>NaN</td>\n",
       "    </tr>\n",
       "  </tbody>\n",
       "</table>\n",
       "<p>5 rows × 134 columns</p>\n",
       "</div>"
      ],
      "text/plain": [
       "        iyear  imonth  iday approxdate  extended resolution  country  \\\n",
       "181686   2017      12    31        NaN         0        NaN      182   \n",
       "181687   2017      12    31        NaN         0        NaN      200   \n",
       "181688   2017      12    31        NaN         0        NaN      160   \n",
       "181689   2017      12    31        NaN         0        NaN       92   \n",
       "181690   2017      12    31        NaN         0        NaN      160   \n",
       "\n",
       "        country_txt  region                  region_txt  ... addnotes  \\\n",
       "181686      Somalia      11          Sub-Saharan Africa  ...      NaN   \n",
       "181687        Syria      10  Middle East & North Africa  ...      NaN   \n",
       "181688  Philippines       5              Southeast Asia  ...      NaN   \n",
       "181689        India       6                  South Asia  ...      NaN   \n",
       "181690  Philippines       5              Southeast Asia  ...      NaN   \n",
       "\n",
       "                                                   scite1  \\\n",
       "181686  \"Somalia: Al-Shabaab Militants Attack Army Che...   \n",
       "181687  \"Putin's 'victory' in Syria has turned into a ...   \n",
       "181688  \"Maguindanao clashes trap tribe members,\" Phil...   \n",
       "181689  \"Trader escapes grenade attack in Imphal,\" Bus...   \n",
       "181690  \"Security tightened in Cotabato following IED ...   \n",
       "\n",
       "                                                   scite2  \\\n",
       "181686  \"Highlights: Somalia Daily Media Highlights 2 ...   \n",
       "181687  \"Two Russian soldiers killed at Hmeymim base i...   \n",
       "181688                                                NaN   \n",
       "181689                                                NaN   \n",
       "181690  \"Security tightened in Cotabato City,\" Manila ...   \n",
       "\n",
       "                                                   scite3  \\\n",
       "181686  \"Highlights: Somalia Daily Media Highlights 1 ...   \n",
       "181687  \"Two Russian servicemen killed in Syria mortar...   \n",
       "181688                                                NaN   \n",
       "181689                                                NaN   \n",
       "181690                                                NaN   \n",
       "\n",
       "                        dbsource  INT_LOG INT_IDEO INT_MISC  INT_ANY  related  \n",
       "181686  START Primary Collection        0        0        0        0      NaN  \n",
       "181687  START Primary Collection       -9       -9        1        1      NaN  \n",
       "181688  START Primary Collection        0        0        0        0      NaN  \n",
       "181689  START Primary Collection       -9       -9        0       -9      NaN  \n",
       "181690  START Primary Collection       -9       -9        0       -9      NaN  \n",
       "\n",
       "[5 rows x 134 columns]"
      ]
     },
     "execution_count": 38,
     "metadata": {},
     "output_type": "execute_result"
    }
   ],
   "source": [
    "df_terror.tail()"
   ]
  },
  {
   "cell_type": "code",
   "execution_count": 7,
   "metadata": {},
   "outputs": [
    {
     "data": {
      "text/html": [
       "<div>\n",
       "<style scoped>\n",
       "    .dataframe tbody tr th:only-of-type {\n",
       "        vertical-align: middle;\n",
       "    }\n",
       "\n",
       "    .dataframe tbody tr th {\n",
       "        vertical-align: top;\n",
       "    }\n",
       "\n",
       "    .dataframe thead th {\n",
       "        text-align: right;\n",
       "    }\n",
       "</style>\n",
       "<table border=\"1\" class=\"dataframe\">\n",
       "  <thead>\n",
       "    <tr style=\"text-align: right;\">\n",
       "      <th></th>\n",
       "      <th>eventid</th>\n",
       "      <th>iyear</th>\n",
       "      <th>imonth</th>\n",
       "      <th>iday</th>\n",
       "      <th>extended</th>\n",
       "      <th>country</th>\n",
       "      <th>region</th>\n",
       "      <th>latitude</th>\n",
       "      <th>longitude</th>\n",
       "      <th>specificity</th>\n",
       "      <th>...</th>\n",
       "      <th>ransomamt</th>\n",
       "      <th>ransomamtus</th>\n",
       "      <th>ransompaid</th>\n",
       "      <th>ransompaidus</th>\n",
       "      <th>hostkidoutcome</th>\n",
       "      <th>nreleased</th>\n",
       "      <th>INT_LOG</th>\n",
       "      <th>INT_IDEO</th>\n",
       "      <th>INT_MISC</th>\n",
       "      <th>INT_ANY</th>\n",
       "    </tr>\n",
       "  </thead>\n",
       "  <tbody>\n",
       "    <tr>\n",
       "      <th>count</th>\n",
       "      <td>1.816910e+05</td>\n",
       "      <td>181691.000000</td>\n",
       "      <td>181691.000000</td>\n",
       "      <td>181691.000000</td>\n",
       "      <td>181691.000000</td>\n",
       "      <td>181691.000000</td>\n",
       "      <td>181691.000000</td>\n",
       "      <td>177135.000000</td>\n",
       "      <td>1.771340e+05</td>\n",
       "      <td>181685.000000</td>\n",
       "      <td>...</td>\n",
       "      <td>1.350000e+03</td>\n",
       "      <td>5.630000e+02</td>\n",
       "      <td>7.740000e+02</td>\n",
       "      <td>552.000000</td>\n",
       "      <td>10991.000000</td>\n",
       "      <td>10400.000000</td>\n",
       "      <td>181691.000000</td>\n",
       "      <td>181691.000000</td>\n",
       "      <td>181691.000000</td>\n",
       "      <td>181691.000000</td>\n",
       "    </tr>\n",
       "    <tr>\n",
       "      <th>mean</th>\n",
       "      <td>2.002705e+11</td>\n",
       "      <td>2002.638997</td>\n",
       "      <td>6.467277</td>\n",
       "      <td>15.505644</td>\n",
       "      <td>0.045346</td>\n",
       "      <td>131.968501</td>\n",
       "      <td>7.160938</td>\n",
       "      <td>23.498343</td>\n",
       "      <td>-4.586957e+02</td>\n",
       "      <td>1.451452</td>\n",
       "      <td>...</td>\n",
       "      <td>3.172530e+06</td>\n",
       "      <td>5.784865e+05</td>\n",
       "      <td>7.179437e+05</td>\n",
       "      <td>240.378623</td>\n",
       "      <td>4.629242</td>\n",
       "      <td>-29.018269</td>\n",
       "      <td>-4.543731</td>\n",
       "      <td>-4.464398</td>\n",
       "      <td>0.090010</td>\n",
       "      <td>-3.945952</td>\n",
       "    </tr>\n",
       "    <tr>\n",
       "      <th>std</th>\n",
       "      <td>1.325957e+09</td>\n",
       "      <td>13.259430</td>\n",
       "      <td>3.388303</td>\n",
       "      <td>8.814045</td>\n",
       "      <td>0.208063</td>\n",
       "      <td>112.414535</td>\n",
       "      <td>2.933408</td>\n",
       "      <td>18.569242</td>\n",
       "      <td>2.047790e+05</td>\n",
       "      <td>0.995430</td>\n",
       "      <td>...</td>\n",
       "      <td>3.021157e+07</td>\n",
       "      <td>7.077924e+06</td>\n",
       "      <td>1.014392e+07</td>\n",
       "      <td>2940.967293</td>\n",
       "      <td>2.035360</td>\n",
       "      <td>65.720119</td>\n",
       "      <td>4.543547</td>\n",
       "      <td>4.637152</td>\n",
       "      <td>0.568457</td>\n",
       "      <td>4.691325</td>\n",
       "    </tr>\n",
       "    <tr>\n",
       "      <th>min</th>\n",
       "      <td>1.970000e+11</td>\n",
       "      <td>1970.000000</td>\n",
       "      <td>0.000000</td>\n",
       "      <td>0.000000</td>\n",
       "      <td>0.000000</td>\n",
       "      <td>4.000000</td>\n",
       "      <td>1.000000</td>\n",
       "      <td>-53.154613</td>\n",
       "      <td>-8.618590e+07</td>\n",
       "      <td>1.000000</td>\n",
       "      <td>...</td>\n",
       "      <td>-9.900000e+01</td>\n",
       "      <td>-9.900000e+01</td>\n",
       "      <td>-9.900000e+01</td>\n",
       "      <td>-99.000000</td>\n",
       "      <td>1.000000</td>\n",
       "      <td>-99.000000</td>\n",
       "      <td>-9.000000</td>\n",
       "      <td>-9.000000</td>\n",
       "      <td>-9.000000</td>\n",
       "      <td>-9.000000</td>\n",
       "    </tr>\n",
       "    <tr>\n",
       "      <th>25%</th>\n",
       "      <td>1.991021e+11</td>\n",
       "      <td>1991.000000</td>\n",
       "      <td>4.000000</td>\n",
       "      <td>8.000000</td>\n",
       "      <td>0.000000</td>\n",
       "      <td>78.000000</td>\n",
       "      <td>5.000000</td>\n",
       "      <td>11.510046</td>\n",
       "      <td>4.545640e+00</td>\n",
       "      <td>1.000000</td>\n",
       "      <td>...</td>\n",
       "      <td>0.000000e+00</td>\n",
       "      <td>0.000000e+00</td>\n",
       "      <td>-9.900000e+01</td>\n",
       "      <td>0.000000</td>\n",
       "      <td>2.000000</td>\n",
       "      <td>-99.000000</td>\n",
       "      <td>-9.000000</td>\n",
       "      <td>-9.000000</td>\n",
       "      <td>0.000000</td>\n",
       "      <td>-9.000000</td>\n",
       "    </tr>\n",
       "    <tr>\n",
       "      <th>50%</th>\n",
       "      <td>2.009022e+11</td>\n",
       "      <td>2009.000000</td>\n",
       "      <td>6.000000</td>\n",
       "      <td>15.000000</td>\n",
       "      <td>0.000000</td>\n",
       "      <td>98.000000</td>\n",
       "      <td>6.000000</td>\n",
       "      <td>31.467463</td>\n",
       "      <td>4.324651e+01</td>\n",
       "      <td>1.000000</td>\n",
       "      <td>...</td>\n",
       "      <td>1.500000e+04</td>\n",
       "      <td>0.000000e+00</td>\n",
       "      <td>0.000000e+00</td>\n",
       "      <td>0.000000</td>\n",
       "      <td>4.000000</td>\n",
       "      <td>0.000000</td>\n",
       "      <td>-9.000000</td>\n",
       "      <td>-9.000000</td>\n",
       "      <td>0.000000</td>\n",
       "      <td>0.000000</td>\n",
       "    </tr>\n",
       "    <tr>\n",
       "      <th>75%</th>\n",
       "      <td>2.014081e+11</td>\n",
       "      <td>2014.000000</td>\n",
       "      <td>9.000000</td>\n",
       "      <td>23.000000</td>\n",
       "      <td>0.000000</td>\n",
       "      <td>160.000000</td>\n",
       "      <td>10.000000</td>\n",
       "      <td>34.685087</td>\n",
       "      <td>6.871033e+01</td>\n",
       "      <td>1.000000</td>\n",
       "      <td>...</td>\n",
       "      <td>4.000000e+05</td>\n",
       "      <td>0.000000e+00</td>\n",
       "      <td>1.273412e+03</td>\n",
       "      <td>0.000000</td>\n",
       "      <td>7.000000</td>\n",
       "      <td>1.000000</td>\n",
       "      <td>0.000000</td>\n",
       "      <td>0.000000</td>\n",
       "      <td>0.000000</td>\n",
       "      <td>0.000000</td>\n",
       "    </tr>\n",
       "    <tr>\n",
       "      <th>max</th>\n",
       "      <td>2.017123e+11</td>\n",
       "      <td>2017.000000</td>\n",
       "      <td>12.000000</td>\n",
       "      <td>31.000000</td>\n",
       "      <td>1.000000</td>\n",
       "      <td>1004.000000</td>\n",
       "      <td>12.000000</td>\n",
       "      <td>74.633553</td>\n",
       "      <td>1.793667e+02</td>\n",
       "      <td>5.000000</td>\n",
       "      <td>...</td>\n",
       "      <td>1.000000e+09</td>\n",
       "      <td>1.320000e+08</td>\n",
       "      <td>2.750000e+08</td>\n",
       "      <td>48000.000000</td>\n",
       "      <td>7.000000</td>\n",
       "      <td>2769.000000</td>\n",
       "      <td>1.000000</td>\n",
       "      <td>1.000000</td>\n",
       "      <td>1.000000</td>\n",
       "      <td>1.000000</td>\n",
       "    </tr>\n",
       "  </tbody>\n",
       "</table>\n",
       "<p>8 rows × 77 columns</p>\n",
       "</div>"
      ],
      "text/plain": [
       "            eventid          iyear         imonth           iday  \\\n",
       "count  1.816910e+05  181691.000000  181691.000000  181691.000000   \n",
       "mean   2.002705e+11    2002.638997       6.467277      15.505644   \n",
       "std    1.325957e+09      13.259430       3.388303       8.814045   \n",
       "min    1.970000e+11    1970.000000       0.000000       0.000000   \n",
       "25%    1.991021e+11    1991.000000       4.000000       8.000000   \n",
       "50%    2.009022e+11    2009.000000       6.000000      15.000000   \n",
       "75%    2.014081e+11    2014.000000       9.000000      23.000000   \n",
       "max    2.017123e+11    2017.000000      12.000000      31.000000   \n",
       "\n",
       "            extended        country         region       latitude  \\\n",
       "count  181691.000000  181691.000000  181691.000000  177135.000000   \n",
       "mean        0.045346     131.968501       7.160938      23.498343   \n",
       "std         0.208063     112.414535       2.933408      18.569242   \n",
       "min         0.000000       4.000000       1.000000     -53.154613   \n",
       "25%         0.000000      78.000000       5.000000      11.510046   \n",
       "50%         0.000000      98.000000       6.000000      31.467463   \n",
       "75%         0.000000     160.000000      10.000000      34.685087   \n",
       "max         1.000000    1004.000000      12.000000      74.633553   \n",
       "\n",
       "          longitude    specificity  ...     ransomamt   ransomamtus  \\\n",
       "count  1.771340e+05  181685.000000  ...  1.350000e+03  5.630000e+02   \n",
       "mean  -4.586957e+02       1.451452  ...  3.172530e+06  5.784865e+05   \n",
       "std    2.047790e+05       0.995430  ...  3.021157e+07  7.077924e+06   \n",
       "min   -8.618590e+07       1.000000  ... -9.900000e+01 -9.900000e+01   \n",
       "25%    4.545640e+00       1.000000  ...  0.000000e+00  0.000000e+00   \n",
       "50%    4.324651e+01       1.000000  ...  1.500000e+04  0.000000e+00   \n",
       "75%    6.871033e+01       1.000000  ...  4.000000e+05  0.000000e+00   \n",
       "max    1.793667e+02       5.000000  ...  1.000000e+09  1.320000e+08   \n",
       "\n",
       "         ransompaid  ransompaidus  hostkidoutcome     nreleased  \\\n",
       "count  7.740000e+02    552.000000    10991.000000  10400.000000   \n",
       "mean   7.179437e+05    240.378623        4.629242    -29.018269   \n",
       "std    1.014392e+07   2940.967293        2.035360     65.720119   \n",
       "min   -9.900000e+01    -99.000000        1.000000    -99.000000   \n",
       "25%   -9.900000e+01      0.000000        2.000000    -99.000000   \n",
       "50%    0.000000e+00      0.000000        4.000000      0.000000   \n",
       "75%    1.273412e+03      0.000000        7.000000      1.000000   \n",
       "max    2.750000e+08  48000.000000        7.000000   2769.000000   \n",
       "\n",
       "             INT_LOG       INT_IDEO       INT_MISC        INT_ANY  \n",
       "count  181691.000000  181691.000000  181691.000000  181691.000000  \n",
       "mean       -4.543731      -4.464398       0.090010      -3.945952  \n",
       "std         4.543547       4.637152       0.568457       4.691325  \n",
       "min        -9.000000      -9.000000      -9.000000      -9.000000  \n",
       "25%        -9.000000      -9.000000       0.000000      -9.000000  \n",
       "50%        -9.000000      -9.000000       0.000000       0.000000  \n",
       "75%         0.000000       0.000000       0.000000       0.000000  \n",
       "max         1.000000       1.000000       1.000000       1.000000  \n",
       "\n",
       "[8 rows x 77 columns]"
      ]
     },
     "execution_count": 7,
     "metadata": {},
     "output_type": "execute_result"
    }
   ],
   "source": [
    "#df_terror.describe().T\n",
    "df_terror.describe()"
   ]
  },
  {
   "cell_type": "code",
   "execution_count": 3,
   "metadata": {},
   "outputs": [
    {
     "data": {
      "text/html": [
       "<div>\n",
       "<style scoped>\n",
       "    .dataframe tbody tr th:only-of-type {\n",
       "        vertical-align: middle;\n",
       "    }\n",
       "\n",
       "    .dataframe tbody tr th {\n",
       "        vertical-align: top;\n",
       "    }\n",
       "\n",
       "    .dataframe thead th {\n",
       "        text-align: right;\n",
       "    }\n",
       "</style>\n",
       "<table border=\"1\" class=\"dataframe\">\n",
       "  <thead>\n",
       "    <tr style=\"text-align: right;\">\n",
       "      <th></th>\n",
       "      <th>approxdate</th>\n",
       "      <th>resolution</th>\n",
       "      <th>country_txt</th>\n",
       "      <th>region_txt</th>\n",
       "      <th>provstate</th>\n",
       "      <th>city</th>\n",
       "      <th>location</th>\n",
       "      <th>summary</th>\n",
       "      <th>alternative_txt</th>\n",
       "      <th>attacktype1_txt</th>\n",
       "      <th>...</th>\n",
       "      <th>divert</th>\n",
       "      <th>kidhijcountry</th>\n",
       "      <th>ransomnote</th>\n",
       "      <th>hostkidoutcome_txt</th>\n",
       "      <th>addnotes</th>\n",
       "      <th>scite1</th>\n",
       "      <th>scite2</th>\n",
       "      <th>scite3</th>\n",
       "      <th>dbsource</th>\n",
       "      <th>related</th>\n",
       "    </tr>\n",
       "  </thead>\n",
       "  <tbody>\n",
       "    <tr>\n",
       "      <th>count</th>\n",
       "      <td>9239</td>\n",
       "      <td>2220</td>\n",
       "      <td>181691</td>\n",
       "      <td>181691</td>\n",
       "      <td>181270</td>\n",
       "      <td>181257</td>\n",
       "      <td>55495</td>\n",
       "      <td>115562</td>\n",
       "      <td>29011</td>\n",
       "      <td>181691</td>\n",
       "      <td>...</td>\n",
       "      <td>324</td>\n",
       "      <td>3305</td>\n",
       "      <td>514</td>\n",
       "      <td>10991</td>\n",
       "      <td>28289</td>\n",
       "      <td>115500</td>\n",
       "      <td>76933</td>\n",
       "      <td>43516</td>\n",
       "      <td>181691</td>\n",
       "      <td>25038</td>\n",
       "    </tr>\n",
       "    <tr>\n",
       "      <th>unique</th>\n",
       "      <td>2244</td>\n",
       "      <td>1859</td>\n",
       "      <td>205</td>\n",
       "      <td>12</td>\n",
       "      <td>2855</td>\n",
       "      <td>36674</td>\n",
       "      <td>44109</td>\n",
       "      <td>112492</td>\n",
       "      <td>5</td>\n",
       "      <td>9</td>\n",
       "      <td>...</td>\n",
       "      <td>143</td>\n",
       "      <td>217</td>\n",
       "      <td>387</td>\n",
       "      <td>7</td>\n",
       "      <td>15429</td>\n",
       "      <td>83988</td>\n",
       "      <td>62263</td>\n",
       "      <td>36090</td>\n",
       "      <td>26</td>\n",
       "      <td>14306</td>\n",
       "    </tr>\n",
       "    <tr>\n",
       "      <th>top</th>\n",
       "      <td>September 18-24, 2016</td>\n",
       "      <td>8/4/1998</td>\n",
       "      <td>Iraq</td>\n",
       "      <td>Middle East &amp; North Africa</td>\n",
       "      <td>Baghdad</td>\n",
       "      <td>Unknown</td>\n",
       "      <td>The attack took place in Baghdad, Baghdad, Iraq.</td>\n",
       "      <td>09/00/2016: Sometime between September 18, 201...</td>\n",
       "      <td>Insurgency/Guerilla Action</td>\n",
       "      <td>Bombing/Explosion</td>\n",
       "      <td>...</td>\n",
       "      <td>Unknown</td>\n",
       "      <td>Colombia</td>\n",
       "      <td>0</td>\n",
       "      <td>Unknown</td>\n",
       "      <td>Casualty numbers for this incident conflict ac...</td>\n",
       "      <td>Committee on Government Operations United Stat...</td>\n",
       "      <td>Christopher Hewitt, \"Political Violence and Te...</td>\n",
       "      <td>Christopher Hewitt, \"Political Violence and Te...</td>\n",
       "      <td>START Primary Collection</td>\n",
       "      <td>201612010023, 201612010024, 201612010025, 2016...</td>\n",
       "    </tr>\n",
       "    <tr>\n",
       "      <th>freq</th>\n",
       "      <td>101</td>\n",
       "      <td>18</td>\n",
       "      <td>24636</td>\n",
       "      <td>50474</td>\n",
       "      <td>7645</td>\n",
       "      <td>9775</td>\n",
       "      <td>142</td>\n",
       "      <td>100</td>\n",
       "      <td>23410</td>\n",
       "      <td>88255</td>\n",
       "      <td>...</td>\n",
       "      <td>27</td>\n",
       "      <td>687</td>\n",
       "      <td>36</td>\n",
       "      <td>3606</td>\n",
       "      <td>1607</td>\n",
       "      <td>205</td>\n",
       "      <td>134</td>\n",
       "      <td>139</td>\n",
       "      <td>78002</td>\n",
       "      <td>80</td>\n",
       "    </tr>\n",
       "  </tbody>\n",
       "</table>\n",
       "<p>4 rows × 58 columns</p>\n",
       "</div>"
      ],
      "text/plain": [
       "                   approxdate resolution country_txt  \\\n",
       "count                    9239       2220      181691   \n",
       "unique                   2244       1859         205   \n",
       "top     September 18-24, 2016   8/4/1998        Iraq   \n",
       "freq                      101         18       24636   \n",
       "\n",
       "                        region_txt provstate     city  \\\n",
       "count                       181691    181270   181257   \n",
       "unique                          12      2855    36674   \n",
       "top     Middle East & North Africa   Baghdad  Unknown   \n",
       "freq                         50474      7645     9775   \n",
       "\n",
       "                                                location  \\\n",
       "count                                              55495   \n",
       "unique                                             44109   \n",
       "top     The attack took place in Baghdad, Baghdad, Iraq.   \n",
       "freq                                                 142   \n",
       "\n",
       "                                                  summary  \\\n",
       "count                                              115562   \n",
       "unique                                             112492   \n",
       "top     09/00/2016: Sometime between September 18, 201...   \n",
       "freq                                                  100   \n",
       "\n",
       "                   alternative_txt    attacktype1_txt  ...   divert  \\\n",
       "count                        29011             181691  ...      324   \n",
       "unique                           5                  9  ...      143   \n",
       "top     Insurgency/Guerilla Action  Bombing/Explosion  ...  Unknown   \n",
       "freq                         23410              88255  ...       27   \n",
       "\n",
       "       kidhijcountry ransomnote hostkidoutcome_txt  \\\n",
       "count           3305        514              10991   \n",
       "unique           217        387                  7   \n",
       "top         Colombia          0            Unknown   \n",
       "freq             687         36               3606   \n",
       "\n",
       "                                                 addnotes  \\\n",
       "count                                               28289   \n",
       "unique                                              15429   \n",
       "top     Casualty numbers for this incident conflict ac...   \n",
       "freq                                                 1607   \n",
       "\n",
       "                                                   scite1  \\\n",
       "count                                              115500   \n",
       "unique                                              83988   \n",
       "top     Committee on Government Operations United Stat...   \n",
       "freq                                                  205   \n",
       "\n",
       "                                                   scite2  \\\n",
       "count                                               76933   \n",
       "unique                                              62263   \n",
       "top     Christopher Hewitt, \"Political Violence and Te...   \n",
       "freq                                                  134   \n",
       "\n",
       "                                                   scite3  \\\n",
       "count                                               43516   \n",
       "unique                                              36090   \n",
       "top     Christopher Hewitt, \"Political Violence and Te...   \n",
       "freq                                                  139   \n",
       "\n",
       "                        dbsource  \\\n",
       "count                     181691   \n",
       "unique                        26   \n",
       "top     START Primary Collection   \n",
       "freq                       78002   \n",
       "\n",
       "                                                  related  \n",
       "count                                               25038  \n",
       "unique                                              14306  \n",
       "top     201612010023, 201612010024, 201612010025, 2016...  \n",
       "freq                                                   80  \n",
       "\n",
       "[4 rows x 58 columns]"
      ]
     },
     "execution_count": 3,
     "metadata": {},
     "output_type": "execute_result"
    }
   ],
   "source": [
    "df_terror.describe(include = 'object')"
   ]
  },
  {
   "cell_type": "code",
   "execution_count": 5,
   "metadata": {},
   "outputs": [
    {
     "data": {
      "text/plain": [
       "eventid       181691\n",
       "iyear             47\n",
       "imonth            13\n",
       "iday              32\n",
       "approxdate      2244\n",
       "               ...  \n",
       "INT_LOG            3\n",
       "INT_IDEO           3\n",
       "INT_MISC           3\n",
       "INT_ANY            3\n",
       "related        14306\n",
       "Length: 135, dtype: int64"
      ]
     },
     "execution_count": 5,
     "metadata": {},
     "output_type": "execute_result"
    }
   ],
   "source": [
    "#checking the unique values\n",
    "df_terror.nunique()"
   ]
  },
  {
   "cell_type": "code",
   "execution_count": 8,
   "metadata": {},
   "outputs": [
    {
     "data": {
      "text/html": [
       "<div>\n",
       "<style scoped>\n",
       "    .dataframe tbody tr th:only-of-type {\n",
       "        vertical-align: middle;\n",
       "    }\n",
       "\n",
       "    .dataframe tbody tr th {\n",
       "        vertical-align: top;\n",
       "    }\n",
       "\n",
       "    .dataframe thead th {\n",
       "        text-align: right;\n",
       "    }\n",
       "</style>\n",
       "<table border=\"1\" class=\"dataframe\">\n",
       "  <thead>\n",
       "    <tr style=\"text-align: right;\">\n",
       "      <th></th>\n",
       "      <th>eventid</th>\n",
       "      <th>iyear</th>\n",
       "      <th>imonth</th>\n",
       "      <th>iday</th>\n",
       "      <th>extended</th>\n",
       "      <th>country</th>\n",
       "      <th>region</th>\n",
       "      <th>latitude</th>\n",
       "      <th>longitude</th>\n",
       "      <th>specificity</th>\n",
       "      <th>...</th>\n",
       "      <th>ransomamt</th>\n",
       "      <th>ransomamtus</th>\n",
       "      <th>ransompaid</th>\n",
       "      <th>ransompaidus</th>\n",
       "      <th>hostkidoutcome</th>\n",
       "      <th>nreleased</th>\n",
       "      <th>INT_LOG</th>\n",
       "      <th>INT_IDEO</th>\n",
       "      <th>INT_MISC</th>\n",
       "      <th>INT_ANY</th>\n",
       "    </tr>\n",
       "  </thead>\n",
       "  <tbody>\n",
       "    <tr>\n",
       "      <th>eventid</th>\n",
       "      <td>1.000000</td>\n",
       "      <td>0.999996</td>\n",
       "      <td>0.002706</td>\n",
       "      <td>0.018336</td>\n",
       "      <td>0.091761</td>\n",
       "      <td>-0.135039</td>\n",
       "      <td>0.401371</td>\n",
       "      <td>0.166886</td>\n",
       "      <td>0.003907</td>\n",
       "      <td>0.030641</td>\n",
       "      <td>...</td>\n",
       "      <td>-0.009990</td>\n",
       "      <td>-0.018001</td>\n",
       "      <td>-0.014094</td>\n",
       "      <td>-0.165422</td>\n",
       "      <td>0.256113</td>\n",
       "      <td>-0.181612</td>\n",
       "      <td>-0.143600</td>\n",
       "      <td>-0.133252</td>\n",
       "      <td>-0.077852</td>\n",
       "      <td>-0.175605</td>\n",
       "    </tr>\n",
       "    <tr>\n",
       "      <th>iyear</th>\n",
       "      <td>0.999996</td>\n",
       "      <td>1.000000</td>\n",
       "      <td>0.000139</td>\n",
       "      <td>0.018254</td>\n",
       "      <td>0.091754</td>\n",
       "      <td>-0.135023</td>\n",
       "      <td>0.401384</td>\n",
       "      <td>0.166933</td>\n",
       "      <td>0.003917</td>\n",
       "      <td>0.030626</td>\n",
       "      <td>...</td>\n",
       "      <td>-0.009984</td>\n",
       "      <td>-0.018216</td>\n",
       "      <td>-0.014238</td>\n",
       "      <td>-0.165375</td>\n",
       "      <td>0.256092</td>\n",
       "      <td>-0.181556</td>\n",
       "      <td>-0.143601</td>\n",
       "      <td>-0.133253</td>\n",
       "      <td>-0.077847</td>\n",
       "      <td>-0.175596</td>\n",
       "    </tr>\n",
       "    <tr>\n",
       "      <th>imonth</th>\n",
       "      <td>0.002706</td>\n",
       "      <td>0.000139</td>\n",
       "      <td>1.000000</td>\n",
       "      <td>0.005497</td>\n",
       "      <td>-0.000468</td>\n",
       "      <td>-0.006305</td>\n",
       "      <td>-0.002999</td>\n",
       "      <td>-0.015978</td>\n",
       "      <td>-0.003880</td>\n",
       "      <td>0.003621</td>\n",
       "      <td>...</td>\n",
       "      <td>-0.000710</td>\n",
       "      <td>0.046989</td>\n",
       "      <td>0.058878</td>\n",
       "      <td>-0.016597</td>\n",
       "      <td>0.011295</td>\n",
       "      <td>-0.011535</td>\n",
       "      <td>-0.002302</td>\n",
       "      <td>-0.002034</td>\n",
       "      <td>-0.002554</td>\n",
       "      <td>-0.006336</td>\n",
       "    </tr>\n",
       "    <tr>\n",
       "      <th>iday</th>\n",
       "      <td>0.018336</td>\n",
       "      <td>0.018254</td>\n",
       "      <td>0.005497</td>\n",
       "      <td>1.000000</td>\n",
       "      <td>-0.004700</td>\n",
       "      <td>0.003468</td>\n",
       "      <td>0.009710</td>\n",
       "      <td>0.003423</td>\n",
       "      <td>-0.002285</td>\n",
       "      <td>-0.006991</td>\n",
       "      <td>...</td>\n",
       "      <td>0.012755</td>\n",
       "      <td>-0.010502</td>\n",
       "      <td>0.003148</td>\n",
       "      <td>-0.006581</td>\n",
       "      <td>-0.006706</td>\n",
       "      <td>0.001765</td>\n",
       "      <td>-0.001540</td>\n",
       "      <td>-0.001621</td>\n",
       "      <td>-0.002027</td>\n",
       "      <td>-0.001199</td>\n",
       "    </tr>\n",
       "    <tr>\n",
       "      <th>extended</th>\n",
       "      <td>0.091761</td>\n",
       "      <td>0.091754</td>\n",
       "      <td>-0.000468</td>\n",
       "      <td>-0.004700</td>\n",
       "      <td>1.000000</td>\n",
       "      <td>-0.020466</td>\n",
       "      <td>0.038389</td>\n",
       "      <td>-0.024749</td>\n",
       "      <td>0.000523</td>\n",
       "      <td>0.057897</td>\n",
       "      <td>...</td>\n",
       "      <td>-0.008114</td>\n",
       "      <td>0.028177</td>\n",
       "      <td>0.001966</td>\n",
       "      <td>0.009367</td>\n",
       "      <td>0.233293</td>\n",
       "      <td>-0.192155</td>\n",
       "      <td>0.071768</td>\n",
       "      <td>0.075147</td>\n",
       "      <td>0.027335</td>\n",
       "      <td>0.080767</td>\n",
       "    </tr>\n",
       "    <tr>\n",
       "      <th>...</th>\n",
       "      <td>...</td>\n",
       "      <td>...</td>\n",
       "      <td>...</td>\n",
       "      <td>...</td>\n",
       "      <td>...</td>\n",
       "      <td>...</td>\n",
       "      <td>...</td>\n",
       "      <td>...</td>\n",
       "      <td>...</td>\n",
       "      <td>...</td>\n",
       "      <td>...</td>\n",
       "      <td>...</td>\n",
       "      <td>...</td>\n",
       "      <td>...</td>\n",
       "      <td>...</td>\n",
       "      <td>...</td>\n",
       "      <td>...</td>\n",
       "      <td>...</td>\n",
       "      <td>...</td>\n",
       "      <td>...</td>\n",
       "      <td>...</td>\n",
       "    </tr>\n",
       "    <tr>\n",
       "      <th>nreleased</th>\n",
       "      <td>-0.181612</td>\n",
       "      <td>-0.181556</td>\n",
       "      <td>-0.011535</td>\n",
       "      <td>0.001765</td>\n",
       "      <td>-0.192155</td>\n",
       "      <td>-0.044331</td>\n",
       "      <td>-0.149511</td>\n",
       "      <td>0.002790</td>\n",
       "      <td>-0.017745</td>\n",
       "      <td>-0.030631</td>\n",
       "      <td>...</td>\n",
       "      <td>0.054571</td>\n",
       "      <td>0.034843</td>\n",
       "      <td>0.049322</td>\n",
       "      <td>0.016832</td>\n",
       "      <td>-0.555478</td>\n",
       "      <td>1.000000</td>\n",
       "      <td>0.039388</td>\n",
       "      <td>0.040947</td>\n",
       "      <td>0.085055</td>\n",
       "      <td>0.064759</td>\n",
       "    </tr>\n",
       "    <tr>\n",
       "      <th>INT_LOG</th>\n",
       "      <td>-0.143600</td>\n",
       "      <td>-0.143601</td>\n",
       "      <td>-0.002302</td>\n",
       "      <td>-0.001540</td>\n",
       "      <td>0.071768</td>\n",
       "      <td>0.069904</td>\n",
       "      <td>-0.082584</td>\n",
       "      <td>-0.099827</td>\n",
       "      <td>0.002272</td>\n",
       "      <td>0.073022</td>\n",
       "      <td>...</td>\n",
       "      <td>0.035821</td>\n",
       "      <td>0.031079</td>\n",
       "      <td>0.007029</td>\n",
       "      <td>-0.045504</td>\n",
       "      <td>-0.015442</td>\n",
       "      <td>0.039388</td>\n",
       "      <td>1.000000</td>\n",
       "      <td>0.996211</td>\n",
       "      <td>0.052537</td>\n",
       "      <td>0.891051</td>\n",
       "    </tr>\n",
       "    <tr>\n",
       "      <th>INT_IDEO</th>\n",
       "      <td>-0.133252</td>\n",
       "      <td>-0.133253</td>\n",
       "      <td>-0.002034</td>\n",
       "      <td>-0.001621</td>\n",
       "      <td>0.075147</td>\n",
       "      <td>0.067564</td>\n",
       "      <td>-0.071917</td>\n",
       "      <td>-0.094470</td>\n",
       "      <td>0.002268</td>\n",
       "      <td>0.071333</td>\n",
       "      <td>...</td>\n",
       "      <td>0.039053</td>\n",
       "      <td>0.041983</td>\n",
       "      <td>0.013162</td>\n",
       "      <td>-0.039844</td>\n",
       "      <td>-0.016234</td>\n",
       "      <td>0.040947</td>\n",
       "      <td>0.996211</td>\n",
       "      <td>1.000000</td>\n",
       "      <td>0.082014</td>\n",
       "      <td>0.893811</td>\n",
       "    </tr>\n",
       "    <tr>\n",
       "      <th>INT_MISC</th>\n",
       "      <td>-0.077852</td>\n",
       "      <td>-0.077847</td>\n",
       "      <td>-0.002554</td>\n",
       "      <td>-0.002027</td>\n",
       "      <td>0.027335</td>\n",
       "      <td>0.207281</td>\n",
       "      <td>0.043139</td>\n",
       "      <td>0.097652</td>\n",
       "      <td>0.000371</td>\n",
       "      <td>-0.019197</td>\n",
       "      <td>...</td>\n",
       "      <td>0.023815</td>\n",
       "      <td>0.125162</td>\n",
       "      <td>0.037227</td>\n",
       "      <td>0.129274</td>\n",
       "      <td>-0.119776</td>\n",
       "      <td>0.085055</td>\n",
       "      <td>0.052537</td>\n",
       "      <td>0.082014</td>\n",
       "      <td>1.000000</td>\n",
       "      <td>0.252193</td>\n",
       "    </tr>\n",
       "    <tr>\n",
       "      <th>INT_ANY</th>\n",
       "      <td>-0.175605</td>\n",
       "      <td>-0.175596</td>\n",
       "      <td>-0.006336</td>\n",
       "      <td>-0.001199</td>\n",
       "      <td>0.080767</td>\n",
       "      <td>0.153118</td>\n",
       "      <td>-0.047900</td>\n",
       "      <td>-0.041530</td>\n",
       "      <td>0.002497</td>\n",
       "      <td>0.061389</td>\n",
       "      <td>...</td>\n",
       "      <td>0.028054</td>\n",
       "      <td>0.053484</td>\n",
       "      <td>0.007275</td>\n",
       "      <td>0.056438</td>\n",
       "      <td>-0.061946</td>\n",
       "      <td>0.064759</td>\n",
       "      <td>0.891051</td>\n",
       "      <td>0.893811</td>\n",
       "      <td>0.252193</td>\n",
       "      <td>1.000000</td>\n",
       "    </tr>\n",
       "  </tbody>\n",
       "</table>\n",
       "<p>77 rows × 77 columns</p>\n",
       "</div>"
      ],
      "text/plain": [
       "            eventid     iyear    imonth      iday  extended   country  \\\n",
       "eventid    1.000000  0.999996  0.002706  0.018336  0.091761 -0.135039   \n",
       "iyear      0.999996  1.000000  0.000139  0.018254  0.091754 -0.135023   \n",
       "imonth     0.002706  0.000139  1.000000  0.005497 -0.000468 -0.006305   \n",
       "iday       0.018336  0.018254  0.005497  1.000000 -0.004700  0.003468   \n",
       "extended   0.091761  0.091754 -0.000468 -0.004700  1.000000 -0.020466   \n",
       "...             ...       ...       ...       ...       ...       ...   \n",
       "nreleased -0.181612 -0.181556 -0.011535  0.001765 -0.192155 -0.044331   \n",
       "INT_LOG   -0.143600 -0.143601 -0.002302 -0.001540  0.071768  0.069904   \n",
       "INT_IDEO  -0.133252 -0.133253 -0.002034 -0.001621  0.075147  0.067564   \n",
       "INT_MISC  -0.077852 -0.077847 -0.002554 -0.002027  0.027335  0.207281   \n",
       "INT_ANY   -0.175605 -0.175596 -0.006336 -0.001199  0.080767  0.153118   \n",
       "\n",
       "             region  latitude  longitude  specificity  ...  ransomamt  \\\n",
       "eventid    0.401371  0.166886   0.003907     0.030641  ...  -0.009990   \n",
       "iyear      0.401384  0.166933   0.003917     0.030626  ...  -0.009984   \n",
       "imonth    -0.002999 -0.015978  -0.003880     0.003621  ...  -0.000710   \n",
       "iday       0.009710  0.003423  -0.002285    -0.006991  ...   0.012755   \n",
       "extended   0.038389 -0.024749   0.000523     0.057897  ...  -0.008114   \n",
       "...             ...       ...        ...          ...  ...        ...   \n",
       "nreleased -0.149511  0.002790  -0.017745    -0.030631  ...   0.054571   \n",
       "INT_LOG   -0.082584 -0.099827   0.002272     0.073022  ...   0.035821   \n",
       "INT_IDEO  -0.071917 -0.094470   0.002268     0.071333  ...   0.039053   \n",
       "INT_MISC   0.043139  0.097652   0.000371    -0.019197  ...   0.023815   \n",
       "INT_ANY   -0.047900 -0.041530   0.002497     0.061389  ...   0.028054   \n",
       "\n",
       "           ransomamtus  ransompaid  ransompaidus  hostkidoutcome  nreleased  \\\n",
       "eventid      -0.018001   -0.014094     -0.165422        0.256113  -0.181612   \n",
       "iyear        -0.018216   -0.014238     -0.165375        0.256092  -0.181556   \n",
       "imonth        0.046989    0.058878     -0.016597        0.011295  -0.011535   \n",
       "iday         -0.010502    0.003148     -0.006581       -0.006706   0.001765   \n",
       "extended      0.028177    0.001966      0.009367        0.233293  -0.192155   \n",
       "...                ...         ...           ...             ...        ...   \n",
       "nreleased     0.034843    0.049322      0.016832       -0.555478   1.000000   \n",
       "INT_LOG       0.031079    0.007029     -0.045504       -0.015442   0.039388   \n",
       "INT_IDEO      0.041983    0.013162     -0.039844       -0.016234   0.040947   \n",
       "INT_MISC      0.125162    0.037227      0.129274       -0.119776   0.085055   \n",
       "INT_ANY       0.053484    0.007275      0.056438       -0.061946   0.064759   \n",
       "\n",
       "            INT_LOG  INT_IDEO  INT_MISC   INT_ANY  \n",
       "eventid   -0.143600 -0.133252 -0.077852 -0.175605  \n",
       "iyear     -0.143601 -0.133253 -0.077847 -0.175596  \n",
       "imonth    -0.002302 -0.002034 -0.002554 -0.006336  \n",
       "iday      -0.001540 -0.001621 -0.002027 -0.001199  \n",
       "extended   0.071768  0.075147  0.027335  0.080767  \n",
       "...             ...       ...       ...       ...  \n",
       "nreleased  0.039388  0.040947  0.085055  0.064759  \n",
       "INT_LOG    1.000000  0.996211  0.052537  0.891051  \n",
       "INT_IDEO   0.996211  1.000000  0.082014  0.893811  \n",
       "INT_MISC   0.052537  0.082014  1.000000  0.252193  \n",
       "INT_ANY    0.891051  0.893811  0.252193  1.000000  \n",
       "\n",
       "[77 rows x 77 columns]"
      ]
     },
     "execution_count": 8,
     "metadata": {},
     "output_type": "execute_result"
    }
   ],
   "source": [
    "#find pairwise correlation of columns.\n",
    "df_terror.corr()"
   ]
  },
  {
   "cell_type": "markdown",
   "metadata": {},
   "source": [
    "## Analysis of Dataset"
   ]
  },
  {
   "cell_type": "markdown",
   "metadata": {},
   "source": [
    "### Number of Attacks based on Country. "
   ]
  },
  {
   "cell_type": "code",
   "execution_count": 7,
   "metadata": {},
   "outputs": [
    {
     "name": "stdout",
     "output_type": "stream",
     "text": [
      "Top 10 countries total number of terror attacks along with its Name\n"
     ]
    },
    {
     "data": {
      "text/plain": [
       "Iraq              24636\n",
       "Pakistan          14368\n",
       "Afghanistan       12731\n",
       "India             11960\n",
       "Colombia           8306\n",
       "Philippines        6908\n",
       "Peru               6096\n",
       "El Salvador        5320\n",
       "United Kingdom     5235\n",
       "Turkey             4292\n",
       "Name: country_txt, dtype: int64"
      ]
     },
     "execution_count": 7,
     "metadata": {},
     "output_type": "execute_result"
    }
   ],
   "source": [
    "terror_attacks = df_terror['country_txt'].value_counts()\n",
    "country_name = terror_attacks.index[0]\n",
    "Number_of_attacks = terror_attacks.values[0]\n",
    "print(\"Top 10 countries total number of terror attacks along with its Name\")\n",
    "terror_attacks.head(10)"
   ]
  },
  {
   "cell_type": "code",
   "execution_count": 11,
   "metadata": {},
   "outputs": [
    {
     "data": {
      "text/plain": [
       "Vatican City           1\n",
       "Wallis and Futuna      1\n",
       "New Hebrides           1\n",
       "Falkland Islands       1\n",
       "Antigua and Barbuda    1\n",
       "Name: country_txt, dtype: int64"
      ]
     },
     "execution_count": 11,
     "metadata": {},
     "output_type": "execute_result"
    }
   ],
   "source": [
    "terror_attacks.tail()"
   ]
  },
  {
   "cell_type": "markdown",
   "metadata": {},
   "source": [
    "### 'Iraq' has maximum number of terror attacks and 'Antigua and Barbuda' has minimum number of terror attacks. "
   ]
  },
  {
   "cell_type": "markdown",
   "metadata": {},
   "source": [
    "## India is on 4th Place in this list. "
   ]
  },
  {
   "cell_type": "code",
   "execution_count": 9,
   "metadata": {},
   "outputs": [
    {
     "data": {
      "text/plain": [
       "205"
      ]
     },
     "execution_count": 9,
     "metadata": {},
     "output_type": "execute_result"
    }
   ],
   "source": [
    "terror_attacks.size"
   ]
  },
  {
   "cell_type": "code",
   "execution_count": 22,
   "metadata": {},
   "outputs": [
    {
     "data": {
      "image/png": "[encoded data removed]",
      "text/plain": [
       "<Figure size 1800x720 with 1 Axes>"
      ]
     },
     "metadata": {
      "needs_background": "light"
     },
     "output_type": "display_data"
    }
   ],
   "source": [
    "#visualize the top 10 terror attacks countries\n",
    "plt.figure(figsize=(25,10))\n",
    "sns.barplot(df_terror['country_txt'].value_counts()[:10].index,df_terror['country_txt'].value_counts()[:10].values)\n",
    "plt.title(\"Top 10 countries Number of terror attacks\",fontsize=18)\n",
    "plt.xlabel('Countries',fontsize=14)\n",
    "plt.ylabel('Number of attacks',fontsize=14)\n",
    "plt.xticks(rotation = 90)\n",
    "plt.show()"
   ]
  },
  {
   "cell_type": "markdown",
   "metadata": {},
   "source": [
    "## Year the most number of terrorist attacks happened in these countries"
   ]
  },
  {
   "cell_type": "code",
   "execution_count": 17,
   "metadata": {},
   "outputs": [
    {
     "name": "stdout",
     "output_type": "stream",
     "text": [
      "Year the most number of terrorist attack happened in top 10 terror attacks countries.\n"
     ]
    },
    {
     "data": {
      "text/plain": [
       "2014    3933\n",
       "2016    3360\n",
       "2013    2852\n",
       "2015    2751\n",
       "2017    2466\n",
       "2012    1437\n",
       "2011    1308\n",
       "2010    1179\n",
       "2009    1137\n",
       "2008    1106\n",
       "Name: iyear, dtype: int64"
      ]
     },
     "execution_count": 17,
     "metadata": {},
     "output_type": "execute_result"
    }
   ],
   "source": [
    "#Year the most number of terrorist attack happened in these countries.\n",
    "\n",
    "bool_arr=df_terror['country_txt'] == country_name\n",
    "terror_y=df_terror[bool_arr]\n",
    "year=terror_y['iyear'].value_counts()\n",
    "\n",
    "#print(\"Country_Name,\",\"No._of_attacks,\",\"Highest_attacks_in_year\")\n",
    "#for i in range(0,10):\n",
    " #   print(terror_attacks.index[i],\" , \",terror_attacks.values[i],\" , \",terror_y['iyear'].value_counts().index[i])\n",
    "    \n",
    "print('Year the most number of terrorist attack happened in top 10 terror attacks countries.')\n",
    "year.head(10)"
   ]
  },
  {
   "cell_type": "code",
   "execution_count": 29,
   "metadata": {
    "scrolled": true
   },
   "outputs": [
    {
     "data": {
      "image/png": "[encoded data removed]",
      "text/plain": [
       "<Figure size 1800x720 with 1 Axes>"
      ]
     },
     "metadata": {
      "needs_background": "light"
     },
     "output_type": "display_data"
    }
   ],
   "source": [
    "#visualize the top 10 terror attacks countries\n",
    "plt.figure(figsize=(25,10))\n",
    "sns.barplot(terror_y['iyear'].value_counts()[:10].index,terror_y['iyear'].value_counts()[:10].values)\n",
    "plt.title(\"Top 10 countries Maximum Number of terror attacks in Year\",fontsize=18)\n",
    "plt.xlabel('Year in which Maximum number of attacks happened in top 10 countries',fontsize=14)\n",
    "plt.ylabel('Number of attacks',fontsize=14)\n",
    "plt.xticks(rotation = 90)\n",
    "plt.show()"
   ]
  },
  {
   "cell_type": "markdown",
   "metadata": {},
   "source": [
    "### Here we can see, In 'Iraq' most number of terror attacks happened in 2014 and in 'India' most no. of attacks happened in 2015."
   ]
  },
  {
   "cell_type": "markdown",
   "metadata": {},
   "source": [
    "## Number of terror attacks based on states."
   ]
  },
  {
   "cell_type": "code",
   "execution_count": 31,
   "metadata": {},
   "outputs": [
    {
     "data": {
      "text/plain": [
       "Baghdad               7645\n",
       "Northern Ireland      4498\n",
       "Unknown               4290\n",
       "Balochistan           3710\n",
       "Saladin               3411\n",
       "Al Anbar              3299\n",
       "Nineveh               3241\n",
       "Sindh                 3206\n",
       "Khyber Pakhtunkhwa    3084\n",
       "Diyala                3041\n",
       "Name: provstate, dtype: int64"
      ]
     },
     "execution_count": 31,
     "metadata": {},
     "output_type": "execute_result"
    }
   ],
   "source": [
    "#Most no. of terror attacks based on states\n",
    "terror_state = df_terror['provstate'].value_counts()\n",
    "terror_state.head(10)"
   ]
  },
  {
   "cell_type": "code",
   "execution_count": 35,
   "metadata": {},
   "outputs": [
    {
     "data": {
      "image/png": "[encoded data removed]",
      "text/plain": [
       "<Figure size 720x360 with 1 Axes>"
      ]
     },
     "metadata": {},
     "output_type": "display_data"
    }
   ],
   "source": [
    "#visualization of number of terror attacks in top 10 states.\n",
    "plt.figure(figsize=(10,5))\n",
    "expd=(0.1,0,0,0,0,0,0,0,0,0)   #Explode\n",
    "plt.pie(list(terror_state.head(10)),labels=list(terror_state.keys()[0:10]),shadow=True,explode=expd,radius=1,autopct='%0.2f%%')\n",
    "plt.show()"
   ]
  },
  {
   "cell_type": "markdown",
   "metadata": {},
   "source": [
    "### Baghdad is most affected state due to terror attacks. "
   ]
  },
  {
   "cell_type": "markdown",
   "metadata": {},
   "source": [
    "## Number of terror attacks based on cities. "
   ]
  },
  {
   "cell_type": "code",
   "execution_count": 36,
   "metadata": {},
   "outputs": [
    {
     "data": {
      "text/plain": [
       "Unknown         9775\n",
       "Baghdad         7589\n",
       "Karachi         2652\n",
       "Lima            2359\n",
       "Mosul           2265\n",
       "Belfast         2171\n",
       "Santiago        1621\n",
       "Mogadishu       1581\n",
       "San Salvador    1558\n",
       "Istanbul        1048\n",
       "Name: city, dtype: int64"
      ]
     },
     "execution_count": 36,
     "metadata": {},
     "output_type": "execute_result"
    }
   ],
   "source": [
    "terror_cities = df_terror['city'].value_counts()\n",
    "terror_cities.head(10)"
   ]
  },
  {
   "cell_type": "code",
   "execution_count": 44,
   "metadata": {},
   "outputs": [
    {
     "data": {
      "image/png": "[encoded data removed]",
      "text/plain": [
       "<Figure size 1800x720 with 1 Axes>"
      ]
     },
     "metadata": {
      "needs_background": "light"
     },
     "output_type": "display_data"
    }
   ],
   "source": [
    "#visualize the top 10 terror attacks cities\n",
    "plt.figure(figsize=(25,10))\n",
    "sns.barplot(df_terror['city'].value_counts()[:10].index,df_terror['city'].value_counts()[:10].values)\n",
    "plt.title(\"Top 10 cities based on Maximum Number of terror attacks\",fontsize=18)\n",
    "plt.xlabel('Maximum number of attacks happened in top 10 cities',fontsize=14)\n",
    "plt.ylabel('Number of attacks',fontsize=14)\n",
    "plt.xticks(rotation = 90)\n",
    "plt.show()"
   ]
  },
  {
   "cell_type": "markdown",
   "metadata": {},
   "source": [
    "### Baghdad and karachi are two most affected cities due to terror attacks."
   ]
  },
  {
   "cell_type": "markdown",
   "metadata": {},
   "source": [
    "## Terror attacks based on region "
   ]
  },
  {
   "cell_type": "code",
   "execution_count": 45,
   "metadata": {},
   "outputs": [
    {
     "data": {
      "text/plain": [
       "Middle East & North Africa     50474\n",
       "South Asia                     44974\n",
       "South America                  18978\n",
       "Sub-Saharan Africa             17550\n",
       "Western Europe                 16639\n",
       "Southeast Asia                 12485\n",
       "Central America & Caribbean    10344\n",
       "Eastern Europe                  5144\n",
       "North America                   3456\n",
       "East Asia                        802\n",
       "Name: region_txt, dtype: int64"
      ]
     },
     "execution_count": 45,
     "metadata": {},
     "output_type": "execute_result"
    }
   ],
   "source": [
    "terror_region=df_terror['region_txt'].value_counts()\n",
    "terror_region.head(10)"
   ]
  },
  {
   "cell_type": "code",
   "execution_count": 46,
   "metadata": {},
   "outputs": [
    {
     "data": {
      "image/png": "[encoded data removed]",
      "text/plain": [
       "<Figure size 720x360 with 1 Axes>"
      ]
     },
     "metadata": {},
     "output_type": "display_data"
    }
   ],
   "source": [
    "plt.figure(figsize=(10,5))\n",
    "expd=(0.1,0,0,0,0,0,0,0,0,0)   #Explode\n",
    "plt.pie(list(terror_region.head(10)),labels=list(terror_region.keys()[0:10]),shadow=True,explode=expd,radius=1,autopct='%0.2f%%')\n",
    "plt.show()"
   ]
  },
  {
   "cell_type": "markdown",
   "metadata": {},
   "source": [
    "### 'Middle East & North Africa' and 'South Asia' are two regions has most number of terror attacks.   "
   ]
  },
  {
   "cell_type": "markdown",
   "metadata": {},
   "source": [
    "## Number of Terror attacks based on years. "
   ]
  },
  {
   "cell_type": "code",
   "execution_count": 47,
   "metadata": {},
   "outputs": [
    {
     "data": {
      "text/plain": [
       "2014    16903\n",
       "2015    14965\n",
       "2016    13587\n",
       "2013    12036\n",
       "2017    10900\n",
       "2012     8522\n",
       "2011     5076\n",
       "1992     5071\n",
       "2010     4826\n",
       "2008     4805\n",
       "Name: iyear, dtype: int64"
      ]
     },
     "execution_count": 47,
     "metadata": {},
     "output_type": "execute_result"
    }
   ],
   "source": [
    "terror_year=df_terror['iyear'].value_counts()\n",
    "terror_year.head(10)"
   ]
  },
  {
   "cell_type": "code",
   "execution_count": 48,
   "metadata": {},
   "outputs": [
    {
     "data": {
      "image/png": "[encoded data removed]",
      "text/plain": [
       "<Figure size 720x360 with 1 Axes>"
      ]
     },
     "metadata": {},
     "output_type": "display_data"
    }
   ],
   "source": [
    "plt.figure(figsize=(10,5))\n",
    "expd=(0.1,0,0,0,0,0,0,0,0,0)   #Explode\n",
    "plt.pie(list(terror_year.head(10)),labels=list(terror_year.keys()[0:10]),shadow=True,explode=expd,radius=1,autopct='%0.1f%%')\n",
    "plt.show()"
   ]
  },
  {
   "cell_type": "markdown",
   "metadata": {},
   "source": [
    "### Maximum number of terror attacks happened in year 2014."
   ]
  },
  {
   "cell_type": "markdown",
   "metadata": {},
   "source": [
    "### Terror attacks are Gradually increases since 2011.  "
   ]
  },
  {
   "cell_type": "markdown",
   "metadata": {},
   "source": [
    "##  Analysis of Attack type"
   ]
  },
  {
   "cell_type": "code",
   "execution_count": 49,
   "metadata": {},
   "outputs": [
    {
     "data": {
      "text/plain": [
       "Bombing/Explosion                      88255\n",
       "Armed Assault                          42669\n",
       "Assassination                          19312\n",
       "Hostage Taking (Kidnapping)            11158\n",
       "Facility/Infrastructure Attack         10356\n",
       "Unknown                                 7276\n",
       "Unarmed Assault                         1015\n",
       "Hostage Taking (Barricade Incident)      991\n",
       "Hijacking                                659\n",
       "Name: attacktype1_txt, dtype: int64"
      ]
     },
     "execution_count": 49,
     "metadata": {},
     "output_type": "execute_result"
    }
   ],
   "source": [
    "terror_attacktype=df_terror['attacktype1_txt'].value_counts()\n",
    "terror_attacktype.head(10)"
   ]
  },
  {
   "cell_type": "code",
   "execution_count": 50,
   "metadata": {},
   "outputs": [
    {
     "data": {
      "image/png": "[encoded data removed]",
      "text/plain": [
       "<Figure size 1800x720 with 1 Axes>"
      ]
     },
     "metadata": {
      "needs_background": "light"
     },
     "output_type": "display_data"
    }
   ],
   "source": [
    "#visualize the top 10 Attacking type\n",
    "plt.figure(figsize=(25,10))\n",
    "sns.barplot(df_terror['attacktype1_txt'].value_counts()[:10].values,df_terror['attacktype1_txt'].value_counts()[:10].index)\n",
    "plt.title(\"Top 10 Attacking type\",fontsize=18)\n",
    "plt.xlabel('Number of Attacks',fontsize=14)\n",
    "plt.ylabel('Attacking type',fontsize=14)\n",
    "plt.show()"
   ]
  },
  {
   "cell_type": "markdown",
   "metadata": {},
   "source": [
    "### Bombing/Explosion have been most used attacking type in terror attacks."
   ]
  },
  {
   "cell_type": "markdown",
   "metadata": {},
   "source": [
    "## Analysis of attacking target type."
   ]
  },
  {
   "cell_type": "code",
   "execution_count": 54,
   "metadata": {},
   "outputs": [
    {
     "data": {
      "text/plain": [
       "Private Citizens & Property       43511\n",
       "Military                          27984\n",
       "Police                            24506\n",
       "Government (General)              21283\n",
       "Business                          20669\n",
       "Transportation                     6799\n",
       "Utilities                          6023\n",
       "Unknown                            5898\n",
       "Religious Figures/Institutions     4440\n",
       "Educational Institution            4322\n",
       "Name: targtype1_txt, dtype: int64"
      ]
     },
     "execution_count": 54,
     "metadata": {},
     "output_type": "execute_result"
    }
   ],
   "source": [
    "terror_targetType=df_terror['targtype1_txt'].value_counts()\n",
    "terror_targetType.head(10)"
   ]
  },
  {
   "cell_type": "code",
   "execution_count": 55,
   "metadata": {},
   "outputs": [
    {
     "data": {
      "image/png": "[encoded data removed]",
      "text/plain": [
       "<Figure size 1800x720 with 1 Axes>"
      ]
     },
     "metadata": {
      "needs_background": "light"
     },
     "output_type": "display_data"
    }
   ],
   "source": [
    "#visualize the top 10 Attacking type\n",
    "plt.figure(figsize=(25,10))\n",
    "sns.barplot(df_terror['targtype1_txt'].value_counts()[:10].values,df_terror['targtype1_txt'].value_counts()[:10].index)\n",
    "plt.title(\"Top 10 Attacking Target type\",fontsize=18)\n",
    "plt.xlabel('Number of Attacks',fontsize=14)\n",
    "plt.ylabel('Attacking target type',fontsize=14)\n",
    "plt.show()"
   ]
  },
  {
   "cell_type": "markdown",
   "metadata": {},
   "source": [
    "### Here we can see,'Private Citizens & Property' and 'Military' are two most Targeted type."
   ]
  },
  {
   "cell_type": "markdown",
   "metadata": {},
   "source": [
    "## Analysis of kind of Weapons used in terror attacks."
   ]
  },
  {
   "cell_type": "code",
   "execution_count": 56,
   "metadata": {},
   "outputs": [
    {
     "data": {
      "text/plain": [
       "Explosives                                                                     92426\n",
       "Firearms                                                                       58524\n",
       "Unknown                                                                        15157\n",
       "Incendiary                                                                     11135\n",
       "Melee                                                                           3655\n",
       "Chemical                                                                         321\n",
       "Sabotage Equipment                                                               141\n",
       "Vehicle (not to include vehicle-borne explosives, i.e., car or truck bombs)      136\n",
       "Other                                                                            114\n",
       "Biological                                                                        35\n",
       "Name: weaptype1_txt, dtype: int64"
      ]
     },
     "execution_count": 56,
     "metadata": {},
     "output_type": "execute_result"
    }
   ],
   "source": [
    "terror_weapons=df_terror['weaptype1_txt'].value_counts()\n",
    "terror_weapons.head(10)"
   ]
  },
  {
   "cell_type": "code",
   "execution_count": 57,
   "metadata": {},
   "outputs": [
    {
     "data": {
      "image/png": "[encoded data removed]",
      "text/plain": [
       "<Figure size 720x360 with 1 Axes>"
      ]
     },
     "metadata": {},
     "output_type": "display_data"
    }
   ],
   "source": [
    "plt.figure(figsize=(10,5))\n",
    "expd=(0.1,0,0,0,0,0,0,0,0,0)   #Explode\n",
    "plt.pie(list(terror_weapons.head(10)),labels=list(terror_weapons.keys()[0:10]),shadow=True,explode=expd,radius=1,autopct='%0.1f%%')\n",
    "plt.show()"
   ]
  },
  {
   "cell_type": "markdown",
   "metadata": {},
   "source": [
    "### 50.9% of Explosives used as a Weapon.  "
   ]
  },
  {
   "cell_type": "markdown",
   "metadata": {},
   "source": [
    "## Analysis on the based of terror groups.  "
   ]
  },
  {
   "cell_type": "code",
   "execution_count": 60,
   "metadata": {},
   "outputs": [
    {
     "data": {
      "text/plain": [
       "Unknown                                             82782\n",
       "Taliban                                              7478\n",
       "Islamic State of Iraq and the Levant (ISIL)          5613\n",
       "Shining Path (SL)                                    4555\n",
       "Farabundo Marti National Liberation Front (FMLN)     3351\n",
       "Al-Shabaab                                           3288\n",
       "New People's Army (NPA)                              2772\n",
       "Irish Republican Army (IRA)                          2671\n",
       "Revolutionary Armed Forces of Colombia (FARC)        2487\n",
       "Boko Haram                                           2418\n",
       "Name: gname, dtype: int64"
      ]
     },
     "execution_count": 60,
     "metadata": {},
     "output_type": "execute_result"
    }
   ],
   "source": [
    "#based on terror Group\n",
    "terror_group=df_terror['gname'].value_counts()\n",
    "terror_group.head(10)"
   ]
  },
  {
   "cell_type": "code",
   "execution_count": 61,
   "metadata": {},
   "outputs": [
    {
     "data": {
      "image/png": "[encoded data removed]",
      "text/plain": [
       "<Figure size 720x360 with 1 Axes>"
      ]
     },
     "metadata": {},
     "output_type": "display_data"
    }
   ],
   "source": [
    "plt.figure(figsize=(10,5))\n",
    "expd=(0,0.1,0,0,0,0,0,0,0,0)   #Explode\n",
    "plt.pie(list(terror_group.head(10)),labels=list(terror_group.keys()[0:10]),shadow=True,explode=expd,radius=1,autopct='%0.1f%%')\n",
    "plt.show()"
   ]
  },
  {
   "cell_type": "markdown",
   "metadata": {},
   "source": [
    "### 'Taliban' and  'Islamic State of Iraq and the Levant' are two terror groups attacks mostly."
   ]
  },
  {
   "cell_type": "markdown",
   "metadata": {},
   "source": [
    "## Analysis of Number of peoples killed and wounded in these terror attacks. "
   ]
  },
  {
   "cell_type": "code",
   "execution_count": 58,
   "metadata": {},
   "outputs": [
    {
     "data": {
      "text/plain": [
       "0.0     88149\n",
       "1.0     36576\n",
       "2.0     14147\n",
       "3.0      7738\n",
       "4.0      4961\n",
       "5.0      3565\n",
       "6.0      2552\n",
       "7.0      1960\n",
       "8.0      1495\n",
       "10.0     1192\n",
       "Name: nkill, dtype: int64"
      ]
     },
     "execution_count": 58,
     "metadata": {},
     "output_type": "execute_result"
    }
   ],
   "source": [
    "terror_killed=df_terror['nkill'].value_counts()\n",
    "terror_killed.head(10)"
   ]
  },
  {
   "cell_type": "code",
   "execution_count": 69,
   "metadata": {},
   "outputs": [
    {
     "name": "stdout",
     "output_type": "stream",
     "text": [
      "1570 Iraq Islamic State of Iraq and the Levant (ISIL)\n"
     ]
    }
   ],
   "source": [
    "#Analize Maximum Number of kills in Country by single terror attack. \n",
    "df_copy=df_terror.copy()\n",
    "\n",
    "max_killed=df_terror['nkill'].max()\n",
    "bool_arr=df_terror['nkill'] == max_killed\n",
    "df_terror=df_terror[bool_arr]\n",
    "most_killed=int(max_killed)\n",
    "print(most_killed,df_terror.country_txt.values[0],df_terror.gname.values[0])"
   ]
  },
  {
   "cell_type": "markdown",
   "metadata": {},
   "source": [
    "### 1570 people killed in Iraq by ISIL terror group attack is the Maximum number of killed people in attack.  "
   ]
  },
  {
   "cell_type": "code",
   "execution_count": 59,
   "metadata": {},
   "outputs": [
    {
     "data": {
      "text/plain": [
       "0.0     103275\n",
       "1.0      16033\n",
       "2.0      10219\n",
       "3.0       7303\n",
       "4.0       4880\n",
       "5.0       3820\n",
       "6.0       2856\n",
       "7.0       2435\n",
       "8.0       1821\n",
       "10.0      1379\n",
       "Name: nwound, dtype: int64"
      ]
     },
     "execution_count": 59,
     "metadata": {},
     "output_type": "execute_result"
    }
   ],
   "source": [
    "terror_wounded=df_terror['nwound'].value_counts()\n",
    "terror_wounded.head(10)"
   ]
  },
  {
   "cell_type": "code",
   "execution_count": 75,
   "metadata": {},
   "outputs": [
    {
     "data": {
      "text/html": [
       "<div>\n",
       "<style scoped>\n",
       "    .dataframe tbody tr th:only-of-type {\n",
       "        vertical-align: middle;\n",
       "    }\n",
       "\n",
       "    .dataframe tbody tr th {\n",
       "        vertical-align: top;\n",
       "    }\n",
       "\n",
       "    .dataframe thead th {\n",
       "        text-align: right;\n",
       "    }\n",
       "</style>\n",
       "<table border=\"1\" class=\"dataframe\">\n",
       "  <thead>\n",
       "    <tr style=\"text-align: right;\">\n",
       "      <th></th>\n",
       "      <th>eventid</th>\n",
       "      <th>iyear</th>\n",
       "      <th>imonth</th>\n",
       "      <th>iday</th>\n",
       "      <th>approxdate</th>\n",
       "      <th>extended</th>\n",
       "      <th>resolution</th>\n",
       "      <th>country</th>\n",
       "      <th>country_txt</th>\n",
       "      <th>region</th>\n",
       "      <th>...</th>\n",
       "      <th>addnotes</th>\n",
       "      <th>scite1</th>\n",
       "      <th>scite2</th>\n",
       "      <th>scite3</th>\n",
       "      <th>dbsource</th>\n",
       "      <th>INT_LOG</th>\n",
       "      <th>INT_IDEO</th>\n",
       "      <th>INT_MISC</th>\n",
       "      <th>INT_ANY</th>\n",
       "      <th>related</th>\n",
       "    </tr>\n",
       "  </thead>\n",
       "  <tbody>\n",
       "    <tr>\n",
       "      <th>0</th>\n",
       "      <td>197000000001</td>\n",
       "      <td>1970</td>\n",
       "      <td>7</td>\n",
       "      <td>2</td>\n",
       "      <td>NaN</td>\n",
       "      <td>0</td>\n",
       "      <td>NaN</td>\n",
       "      <td>58</td>\n",
       "      <td>Dominican Republic</td>\n",
       "      <td>2</td>\n",
       "      <td>...</td>\n",
       "      <td>NaN</td>\n",
       "      <td>NaN</td>\n",
       "      <td>NaN</td>\n",
       "      <td>NaN</td>\n",
       "      <td>PGIS</td>\n",
       "      <td>0</td>\n",
       "      <td>0</td>\n",
       "      <td>0</td>\n",
       "      <td>0</td>\n",
       "      <td>NaN</td>\n",
       "    </tr>\n",
       "    <tr>\n",
       "      <th>1</th>\n",
       "      <td>197000000002</td>\n",
       "      <td>1970</td>\n",
       "      <td>0</td>\n",
       "      <td>0</td>\n",
       "      <td>NaN</td>\n",
       "      <td>0</td>\n",
       "      <td>NaN</td>\n",
       "      <td>130</td>\n",
       "      <td>Mexico</td>\n",
       "      <td>1</td>\n",
       "      <td>...</td>\n",
       "      <td>NaN</td>\n",
       "      <td>NaN</td>\n",
       "      <td>NaN</td>\n",
       "      <td>NaN</td>\n",
       "      <td>PGIS</td>\n",
       "      <td>0</td>\n",
       "      <td>1</td>\n",
       "      <td>1</td>\n",
       "      <td>1</td>\n",
       "      <td>NaN</td>\n",
       "    </tr>\n",
       "    <tr>\n",
       "      <th>2</th>\n",
       "      <td>197001000001</td>\n",
       "      <td>1970</td>\n",
       "      <td>1</td>\n",
       "      <td>0</td>\n",
       "      <td>NaN</td>\n",
       "      <td>0</td>\n",
       "      <td>NaN</td>\n",
       "      <td>160</td>\n",
       "      <td>Philippines</td>\n",
       "      <td>5</td>\n",
       "      <td>...</td>\n",
       "      <td>NaN</td>\n",
       "      <td>NaN</td>\n",
       "      <td>NaN</td>\n",
       "      <td>NaN</td>\n",
       "      <td>PGIS</td>\n",
       "      <td>-9</td>\n",
       "      <td>-9</td>\n",
       "      <td>1</td>\n",
       "      <td>1</td>\n",
       "      <td>NaN</td>\n",
       "    </tr>\n",
       "    <tr>\n",
       "      <th>3</th>\n",
       "      <td>197001000002</td>\n",
       "      <td>1970</td>\n",
       "      <td>1</td>\n",
       "      <td>0</td>\n",
       "      <td>NaN</td>\n",
       "      <td>0</td>\n",
       "      <td>NaN</td>\n",
       "      <td>78</td>\n",
       "      <td>Greece</td>\n",
       "      <td>8</td>\n",
       "      <td>...</td>\n",
       "      <td>NaN</td>\n",
       "      <td>NaN</td>\n",
       "      <td>NaN</td>\n",
       "      <td>NaN</td>\n",
       "      <td>PGIS</td>\n",
       "      <td>-9</td>\n",
       "      <td>-9</td>\n",
       "      <td>1</td>\n",
       "      <td>1</td>\n",
       "      <td>NaN</td>\n",
       "    </tr>\n",
       "    <tr>\n",
       "      <th>4</th>\n",
       "      <td>197001000003</td>\n",
       "      <td>1970</td>\n",
       "      <td>1</td>\n",
       "      <td>0</td>\n",
       "      <td>NaN</td>\n",
       "      <td>0</td>\n",
       "      <td>NaN</td>\n",
       "      <td>101</td>\n",
       "      <td>Japan</td>\n",
       "      <td>4</td>\n",
       "      <td>...</td>\n",
       "      <td>NaN</td>\n",
       "      <td>NaN</td>\n",
       "      <td>NaN</td>\n",
       "      <td>NaN</td>\n",
       "      <td>PGIS</td>\n",
       "      <td>-9</td>\n",
       "      <td>-9</td>\n",
       "      <td>1</td>\n",
       "      <td>1</td>\n",
       "      <td>NaN</td>\n",
       "    </tr>\n",
       "  </tbody>\n",
       "</table>\n",
       "<p>5 rows × 135 columns</p>\n",
       "</div>"
      ],
      "text/plain": [
       "        eventid  iyear  imonth  iday approxdate  extended resolution  country  \\\n",
       "0  197000000001   1970       7     2        NaN         0        NaN       58   \n",
       "1  197000000002   1970       0     0        NaN         0        NaN      130   \n",
       "2  197001000001   1970       1     0        NaN         0        NaN      160   \n",
       "3  197001000002   1970       1     0        NaN         0        NaN       78   \n",
       "4  197001000003   1970       1     0        NaN         0        NaN      101   \n",
       "\n",
       "          country_txt  region  ... addnotes scite1 scite2  scite3  dbsource  \\\n",
       "0  Dominican Republic       2  ...      NaN    NaN    NaN     NaN      PGIS   \n",
       "1              Mexico       1  ...      NaN    NaN    NaN     NaN      PGIS   \n",
       "2         Philippines       5  ...      NaN    NaN    NaN     NaN      PGIS   \n",
       "3              Greece       8  ...      NaN    NaN    NaN     NaN      PGIS   \n",
       "4               Japan       4  ...      NaN    NaN    NaN     NaN      PGIS   \n",
       "\n",
       "   INT_LOG  INT_IDEO INT_MISC INT_ANY  related  \n",
       "0        0         0        0       0      NaN  \n",
       "1        0         1        1       1      NaN  \n",
       "2       -9        -9        1       1      NaN  \n",
       "3       -9        -9        1       1      NaN  \n",
       "4       -9        -9        1       1      NaN  \n",
       "\n",
       "[5 rows x 135 columns]"
      ]
     },
     "execution_count": 75,
     "metadata": {},
     "output_type": "execute_result"
    }
   ],
   "source": [
    "df_copy.head()"
   ]
  },
  {
   "cell_type": "code",
   "execution_count": 90,
   "metadata": {},
   "outputs": [
    {
     "data": {
      "text/plain": [
       "<seaborn.axisgrid.FacetGrid at 0x1398884f9c8>"
      ]
     },
     "execution_count": 90,
     "metadata": {},
     "output_type": "execute_result"
    },
    {
     "data": {
      "image/png": "[encoded data removed]",
      "text/plain": [
       "<Figure size 526.125x360 with 1 Axes>"
      ]
     },
     "metadata": {},
     "output_type": "display_data"
    }
   ],
   "source": [
    "#killed vs wounded\n",
    "sns.set_style(style=\"darkgrid\")\n",
    "sns.relplot(x ='nkill', y='nwound',hue='region_txt',kind = \"line\", data=df_terror)"
   ]
  },
  {
   "cell_type": "markdown",
   "metadata": {},
   "source": [
    "# Final Conclusion:"
   ]
  },
  {
   "cell_type": "markdown",
   "metadata": {},
   "source": [
    "#### 1. Maximum number of terror attacks happened in IRAQ. "
   ]
  },
  {
   "cell_type": "markdown",
   "metadata": {},
   "source": [
    "#### 2. BAGHDAD and KARACHI are two most affected cities due to terror attacks."
   ]
  },
  {
   "cell_type": "markdown",
   "metadata": {},
   "source": [
    "#### 3. 'Middle East & North Africa' and 'South Asia' are two most affected regions across globe. "
   ]
  },
  {
   "cell_type": "markdown",
   "metadata": {},
   "source": [
    "#### 4. Terror attacks gradually increases since 2011 and in 2014 maximum number of terror attacks has happened worldwide. "
   ]
  },
  {
   "cell_type": "markdown",
   "metadata": {},
   "source": [
    "#### 5. Bombing/Explosion have been the most used Attack type during terror attacks."
   ]
  },
  {
   "cell_type": "markdown",
   "metadata": {},
   "source": [
    "#### 6. 'Private Citizens & Property' and 'Military' are two most Targeted types in terror attacks."
   ]
  },
  {
   "cell_type": "markdown",
   "metadata": {},
   "source": [
    "#### 7. 'Taliban' and 'Islamic State of Iraq and the Levant' are two terror groups has did maximum number of terror attacks across globe.\n"
   ]
  },
  {
   "cell_type": "markdown",
   "metadata": {},
   "source": [
    "# THANK YOU!"
   ]
  }
 ],
 "metadata": {
  "kernelspec": {
   "display_name": "Python 3",
   "language": "python",
   "name": "python3"
  },
  "language_info": {
   "codemirror_mode": {
    "name": "ipython",
    "version": 3
   },
   "file_extension": ".py",
   "mimetype": "text/x-python",
   "name": "python",
   "nbconvert_exporter": "python",
   "pygments_lexer": "ipython3",
   "version": "3.7.6"
  }
 },
 "nbformat": 4,
 "nbformat_minor": 4
}
